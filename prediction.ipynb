{
 "cells": [
  {
   "cell_type": "code",
   "execution_count": 40,
   "metadata": {},
   "outputs": [],
   "source": [
    "import numpy as np\n",
    "import pandas as pd\n",
    "import seaborn as sns\n",
    "\n",
    "from sklearn.feature_extraction.text import CountVectorizer, TfidfVectorizer\n",
    "from sklearn.linear_model import Ridge, RidgeCV, Lasso\n",
    "from sklearn import metrics\n",
    "from sklearn.model_selection import cross_val_score, train_test_split\n",
    "import xgboost as xgb\n",
    "%config InlineBackend.figure_format = 'png'"
   ]
  },
  {
   "cell_type": "code",
   "execution_count": 41,
   "metadata": {},
   "outputs": [],
   "source": [
    "train = pd.read_csv(\"input/listings.csv\")"
   ]
  },
  {
   "cell_type": "code",
   "execution_count": 42,
   "metadata": {},
   "outputs": [
    {
     "data": {
      "text/plain": [
       "id                                    int64\n",
       "listing_url                          object\n",
       "scrape_id                             int64\n",
       "last_scraped                         object\n",
       "name                                 object\n",
       "summary                              object\n",
       "space                                object\n",
       "description                          object\n",
       "experiences_offered                  object\n",
       "neighborhood_overview                object\n",
       "notes                                object\n",
       "transit                              object\n",
       "access                               object\n",
       "interaction                          object\n",
       "house_rules                          object\n",
       "thumbnail_url                        object\n",
       "medium_url                           object\n",
       "picture_url                          object\n",
       "xl_picture_url                       object\n",
       "host_id                               int64\n",
       "host_url                             object\n",
       "host_name                            object\n",
       "host_since                           object\n",
       "host_location                        object\n",
       "host_about                           object\n",
       "host_response_time                   object\n",
       "host_response_rate                   object\n",
       "host_acceptance_rate                 object\n",
       "host_is_superhost                    object\n",
       "host_thumbnail_url                   object\n",
       "                                     ...   \n",
       "guests_included                       int64\n",
       "extra_people                         object\n",
       "minimum_nights                        int64\n",
       "maximum_nights                        int64\n",
       "calendar_updated                     object\n",
       "has_availability                    float64\n",
       "availability_30                       int64\n",
       "availability_60                       int64\n",
       "availability_90                       int64\n",
       "availability_365                      int64\n",
       "calendar_last_scraped                object\n",
       "number_of_reviews                     int64\n",
       "first_review                         object\n",
       "last_review                          object\n",
       "review_scores_rating                float64\n",
       "review_scores_accuracy              float64\n",
       "review_scores_cleanliness           float64\n",
       "review_scores_checkin               float64\n",
       "review_scores_communication         float64\n",
       "review_scores_location              float64\n",
       "review_scores_value                 float64\n",
       "requires_license                     object\n",
       "license                             float64\n",
       "jurisdiction_names                  float64\n",
       "instant_bookable                     object\n",
       "cancellation_policy                  object\n",
       "require_guest_profile_picture        object\n",
       "require_guest_phone_verification     object\n",
       "calculated_host_listings_count        int64\n",
       "reviews_per_month                   float64\n",
       "Length: 95, dtype: object"
      ]
     },
     "execution_count": 42,
     "metadata": {},
     "output_type": "execute_result"
    }
   ],
   "source": [
    "train.dtypes"
   ]
  },
  {
   "cell_type": "code",
   "execution_count": 43,
   "metadata": {},
   "outputs": [],
   "source": [
    "columns_to_keep = [\"price\", \"neighbourhood_cleansed\", \"bedrooms\",\n",
    "                   \"property_type\", \"room_type\", \"name\", \"summary\",\n",
    "                   \"amenities\", \"latitude\", \"longitude\", \"number_of_reviews\",\n",
    "                   \"require_guest_phone_verification\", \"minimum_nights\"]\n",
    "\n",
    "train = train[columns_to_keep]"
   ]
  },
  {
   "cell_type": "code",
   "execution_count": 44,
   "metadata": {
    "scrolled": true
   },
   "outputs": [
    {
     "data": {
      "text/plain": [
       "price                                object\n",
       "neighbourhood_cleansed               object\n",
       "bedrooms                            float64\n",
       "property_type                        object\n",
       "room_type                            object\n",
       "name                                 object\n",
       "summary                              object\n",
       "amenities                            object\n",
       "latitude                            float64\n",
       "longitude                           float64\n",
       "number_of_reviews                     int64\n",
       "require_guest_phone_verification     object\n",
       "minimum_nights                        int64\n",
       "dtype: object"
      ]
     },
     "execution_count": 44,
     "metadata": {},
     "output_type": "execute_result"
    }
   ],
   "source": [
    "train.dtypes"
   ]
  },
  {
   "cell_type": "code",
   "execution_count": 45,
   "metadata": {
    "scrolled": true
   },
   "outputs": [
    {
     "data": {
      "text/html": [
       "<div>\n",
       "<style scoped>\n",
       "    .dataframe tbody tr th:only-of-type {\n",
       "        vertical-align: middle;\n",
       "    }\n",
       "\n",
       "    .dataframe tbody tr th {\n",
       "        vertical-align: top;\n",
       "    }\n",
       "\n",
       "    .dataframe thead th {\n",
       "        text-align: right;\n",
       "    }\n",
       "</style>\n",
       "<table border=\"1\" class=\"dataframe\">\n",
       "  <thead>\n",
       "    <tr style=\"text-align: right;\">\n",
       "      <th></th>\n",
       "      <th>price</th>\n",
       "      <th>neighbourhood_cleansed</th>\n",
       "      <th>bedrooms</th>\n",
       "      <th>property_type</th>\n",
       "      <th>room_type</th>\n",
       "      <th>name</th>\n",
       "      <th>summary</th>\n",
       "      <th>amenities</th>\n",
       "      <th>latitude</th>\n",
       "      <th>longitude</th>\n",
       "      <th>number_of_reviews</th>\n",
       "      <th>require_guest_phone_verification</th>\n",
       "      <th>minimum_nights</th>\n",
       "    </tr>\n",
       "  </thead>\n",
       "  <tbody>\n",
       "    <tr>\n",
       "      <th>0</th>\n",
       "      <td>$250.00</td>\n",
       "      <td>Roslindale</td>\n",
       "      <td>2.0</td>\n",
       "      <td>House</td>\n",
       "      <td>Entire home/apt</td>\n",
       "      <td>Sunny Bungalow in the City</td>\n",
       "      <td>Cozy, sunny, family home.  Master bedroom high...</td>\n",
       "      <td>{TV,\"Wireless Internet\",Kitchen,\"Free Parking ...</td>\n",
       "      <td>42.282619</td>\n",
       "      <td>-71.133068</td>\n",
       "      <td>0</td>\n",
       "      <td>f</td>\n",
       "      <td>2</td>\n",
       "    </tr>\n",
       "    <tr>\n",
       "      <th>1</th>\n",
       "      <td>$65.00</td>\n",
       "      <td>Roslindale</td>\n",
       "      <td>1.0</td>\n",
       "      <td>Apartment</td>\n",
       "      <td>Private room</td>\n",
       "      <td>Charming room in pet friendly apt</td>\n",
       "      <td>Charming and quiet room in a second floor 1910...</td>\n",
       "      <td>{TV,Internet,\"Wireless Internet\",\"Air Conditio...</td>\n",
       "      <td>42.286241</td>\n",
       "      <td>-71.134374</td>\n",
       "      <td>36</td>\n",
       "      <td>f</td>\n",
       "      <td>2</td>\n",
       "    </tr>\n",
       "    <tr>\n",
       "      <th>2</th>\n",
       "      <td>$65.00</td>\n",
       "      <td>Roslindale</td>\n",
       "      <td>1.0</td>\n",
       "      <td>Apartment</td>\n",
       "      <td>Private room</td>\n",
       "      <td>Mexican Folk Art Haven in Boston</td>\n",
       "      <td>Come stay with a friendly, middle-aged guy in ...</td>\n",
       "      <td>{TV,\"Cable TV\",\"Wireless Internet\",\"Air Condit...</td>\n",
       "      <td>42.292438</td>\n",
       "      <td>-71.135765</td>\n",
       "      <td>41</td>\n",
       "      <td>f</td>\n",
       "      <td>3</td>\n",
       "    </tr>\n",
       "  </tbody>\n",
       "</table>\n",
       "</div>"
      ],
      "text/plain": [
       "     price neighbourhood_cleansed  bedrooms property_type        room_type  \\\n",
       "0  $250.00             Roslindale       2.0         House  Entire home/apt   \n",
       "1   $65.00             Roslindale       1.0     Apartment     Private room   \n",
       "2   $65.00             Roslindale       1.0     Apartment     Private room   \n",
       "\n",
       "                                name  \\\n",
       "0         Sunny Bungalow in the City   \n",
       "1  Charming room in pet friendly apt   \n",
       "2   Mexican Folk Art Haven in Boston   \n",
       "\n",
       "                                             summary  \\\n",
       "0  Cozy, sunny, family home.  Master bedroom high...   \n",
       "1  Charming and quiet room in a second floor 1910...   \n",
       "2  Come stay with a friendly, middle-aged guy in ...   \n",
       "\n",
       "                                           amenities   latitude  longitude  \\\n",
       "0  {TV,\"Wireless Internet\",Kitchen,\"Free Parking ...  42.282619 -71.133068   \n",
       "1  {TV,Internet,\"Wireless Internet\",\"Air Conditio...  42.286241 -71.134374   \n",
       "2  {TV,\"Cable TV\",\"Wireless Internet\",\"Air Condit...  42.292438 -71.135765   \n",
       "\n",
       "   number_of_reviews require_guest_phone_verification  minimum_nights  \n",
       "0                  0                                f               2  \n",
       "1                 36                                f               2  \n",
       "2                 41                                f               3  "
      ]
     },
     "execution_count": 45,
     "metadata": {},
     "output_type": "execute_result"
    }
   ],
   "source": [
    "train.head(3)"
   ]
  },
  {
   "cell_type": "code",
   "execution_count": 46,
   "metadata": {},
   "outputs": [],
   "source": [
    "def clean(train):\n",
    "\n",
    "    train[\"bedrooms\"] = train[\"bedrooms\"].fillna(0.5) #these are studios\n",
    "    train[\"summary\"] = train[\"summary\"].fillna(\"\")\n",
    "    #train[\"bedrooms\"] = train[\"bedrooms\"].astype(\"str\")\n",
    "\n",
    "    #replace unpopular types with other \n",
    "    popular_types = train[\"property_type\"].value_counts().head(6).index.values\n",
    "    train.loc[~train.property_type.isin(popular_types), \"property_type\"] = \"Other\"\n",
    "\n",
    "    #make price numeric:\n",
    "    train[\"price\"] = train[\"price\"].str.replace(\"[$,]\", \"\").astype(\"float\")\n",
    "    #eliminate crazy prices:\n",
    "    train = train[train[\"price\"] < 600]\n",
    "    \n",
    "    return train"
   ]
  },
  {
   "cell_type": "code",
   "execution_count": 47,
   "metadata": {},
   "outputs": [],
   "source": [
    "train = clean(train)"
   ]
  },
  {
   "cell_type": "code",
   "execution_count": 48,
   "metadata": {},
   "outputs": [
    {
     "data": {
      "text/plain": [
       "98.37957922657978"
      ]
     },
     "execution_count": 48,
     "metadata": {},
     "output_type": "execute_result"
    },
    {
     "data": {
      "image/png": "[encoded data removed]",
      "text/plain": [
       "<Figure size 432x288 with 1 Axes>"
      ]
     },
     "metadata": {},
     "output_type": "display_data"
    }
   ],
   "source": [
    "train[\"price\"].hist(bins = 30)\n",
    "train[\"price\"].std()"
   ]
  },
  {
   "cell_type": "code",
   "execution_count": 49,
   "metadata": {},
   "outputs": [
    {
     "data": {
      "text/plain": [
       "<matplotlib.axes._subplots.AxesSubplot at 0x111a90550>"
      ]
     },
     "execution_count": 49,
     "metadata": {},
     "output_type": "execute_result"
    },
    {
     "data": {
      "image/png": "[encoded data removed]",
      "text/plain": [
       "<Figure size 432x288 with 1 Axes>"
      ]
     },
     "metadata": {},
     "output_type": "display_data"
    }
   ],
   "source": [
    "(train.pivot(columns = \"bedrooms\", values = \"price\")\n",
    "         .plot.hist(bins = 30, stacked = True))"
   ]
  },
  {
   "cell_type": "code",
   "execution_count": 50,
   "metadata": {},
   "outputs": [
    {
     "data": {
      "text/plain": [
       "<matplotlib.axes._subplots.AxesSubplot at 0x1a26b46588>"
      ]
     },
     "execution_count": 50,
     "metadata": {},
     "output_type": "execute_result"
    },
    {
     "data": {
      "image/png": "[encoded data removed]",
      "text/plain": [
       "<Figure size 432x288 with 1 Axes>"
      ]
     },
     "metadata": {},
     "output_type": "display_data"
    }
   ],
   "source": [
    "sns.barplot(x = \"bedrooms\", y = \"price\", data = train)"
   ]
  },
  {
   "cell_type": "code",
   "execution_count": 51,
   "metadata": {},
   "outputs": [
    {
     "data": {
      "text/plain": [
       "<matplotlib.axes._subplots.AxesSubplot at 0x1a25227cc0>"
      ]
     },
     "execution_count": 51,
     "metadata": {},
     "output_type": "execute_result"
    },
    {
     "data": {
      "image/png": "[encoded data removed]",
      "text/plain": [
       "<Figure size 432x288 with 1 Axes>"
      ]
     },
     "metadata": {},
     "output_type": "display_data"
    }
   ],
   "source": [
    "(train.pivot(columns = \"room_type\", values = \"price\")\n",
    "         .plot.hist(bins = 30, stacked = False, alpha = 0.8))"
   ]
  },
  {
   "cell_type": "code",
   "execution_count": 52,
   "metadata": {},
   "outputs": [
    {
     "data": {
      "text/plain": [
       "room_type\n",
       "Entire home/apt    213.848369\n",
       "Private room        92.080845\n",
       "Shared room         84.443038\n",
       "Name: price, dtype: float64"
      ]
     },
     "execution_count": 52,
     "metadata": {},
     "output_type": "execute_result"
    }
   ],
   "source": [
    "train.groupby(\"room_type\")[\"price\"].mean()"
   ]
  },
  {
   "cell_type": "code",
   "execution_count": 53,
   "metadata": {},
   "outputs": [],
   "source": [
    "y = train[\"price\"]\n",
    "train_num_cat = train[[\"neighbourhood_cleansed\", \"bedrooms\",\n",
    "                   \"property_type\", \"room_type\", \"latitude\", \"longitude\",\n",
    "                   \"number_of_reviews\", \"require_guest_phone_verification\",\n",
    "                    \"minimum_nights\"]]\n",
    "\n",
    "train_text = train[[\"name\", \"summary\", \"amenities\"]]"
   ]
  },
  {
   "cell_type": "code",
   "execution_count": 54,
   "metadata": {},
   "outputs": [],
   "source": [
    "X_num = pd.get_dummies(train_num_cat)"
   ]
  },
  {
   "cell_type": "code",
   "execution_count": 55,
   "metadata": {},
   "outputs": [
    {
     "data": {
      "text/html": [
       "<div>\n",
       "<style scoped>\n",
       "    .dataframe tbody tr th:only-of-type {\n",
       "        vertical-align: middle;\n",
       "    }\n",
       "\n",
       "    .dataframe tbody tr th {\n",
       "        vertical-align: top;\n",
       "    }\n",
       "\n",
       "    .dataframe thead th {\n",
       "        text-align: right;\n",
       "    }\n",
       "</style>\n",
       "<table border=\"1\" class=\"dataframe\">\n",
       "  <thead>\n",
       "    <tr style=\"text-align: right;\">\n",
       "      <th></th>\n",
       "      <th>name</th>\n",
       "      <th>summary</th>\n",
       "      <th>amenities</th>\n",
       "    </tr>\n",
       "  </thead>\n",
       "  <tbody>\n",
       "    <tr>\n",
       "      <th>0</th>\n",
       "      <td>Sunny Bungalow in the City</td>\n",
       "      <td>Cozy, sunny, family home.  Master bedroom high...</td>\n",
       "      <td>{TV,\"Wireless Internet\",Kitchen,\"Free Parking ...</td>\n",
       "    </tr>\n",
       "    <tr>\n",
       "      <th>1</th>\n",
       "      <td>Charming room in pet friendly apt</td>\n",
       "      <td>Charming and quiet room in a second floor 1910...</td>\n",
       "      <td>{TV,Internet,\"Wireless Internet\",\"Air Conditio...</td>\n",
       "    </tr>\n",
       "    <tr>\n",
       "      <th>2</th>\n",
       "      <td>Mexican Folk Art Haven in Boston</td>\n",
       "      <td>Come stay with a friendly, middle-aged guy in ...</td>\n",
       "      <td>{TV,\"Cable TV\",\"Wireless Internet\",\"Air Condit...</td>\n",
       "    </tr>\n",
       "    <tr>\n",
       "      <th>3</th>\n",
       "      <td>Spacious Sunny Bedroom Suite in Historic Home</td>\n",
       "      <td>Come experience the comforts of home away from...</td>\n",
       "      <td>{TV,Internet,\"Wireless Internet\",\"Air Conditio...</td>\n",
       "    </tr>\n",
       "    <tr>\n",
       "      <th>4</th>\n",
       "      <td>Come Home to Boston</td>\n",
       "      <td>My comfy, clean and relaxing home is one block...</td>\n",
       "      <td>{Internet,\"Wireless Internet\",\"Air Conditionin...</td>\n",
       "    </tr>\n",
       "  </tbody>\n",
       "</table>\n",
       "</div>"
      ],
      "text/plain": [
       "                                            name  \\\n",
       "0                     Sunny Bungalow in the City   \n",
       "1              Charming room in pet friendly apt   \n",
       "2               Mexican Folk Art Haven in Boston   \n",
       "3  Spacious Sunny Bedroom Suite in Historic Home   \n",
       "4                            Come Home to Boston   \n",
       "\n",
       "                                             summary  \\\n",
       "0  Cozy, sunny, family home.  Master bedroom high...   \n",
       "1  Charming and quiet room in a second floor 1910...   \n",
       "2  Come stay with a friendly, middle-aged guy in ...   \n",
       "3  Come experience the comforts of home away from...   \n",
       "4  My comfy, clean and relaxing home is one block...   \n",
       "\n",
       "                                           amenities  \n",
       "0  {TV,\"Wireless Internet\",Kitchen,\"Free Parking ...  \n",
       "1  {TV,Internet,\"Wireless Internet\",\"Air Conditio...  \n",
       "2  {TV,\"Cable TV\",\"Wireless Internet\",\"Air Condit...  \n",
       "3  {TV,Internet,\"Wireless Internet\",\"Air Conditio...  \n",
       "4  {Internet,\"Wireless Internet\",\"Air Conditionin...  "
      ]
     },
     "execution_count": 55,
     "metadata": {},
     "output_type": "execute_result"
    }
   ],
   "source": [
    "train_text.head()"
   ]
  },
  {
   "cell_type": "code",
   "execution_count": 56,
   "metadata": {},
   "outputs": [],
   "source": [
    "train.amenities = train.amenities.str.replace(\"[{}]\", \"\")"
   ]
  },
  {
   "cell_type": "code",
   "execution_count": 57,
   "metadata": {},
   "outputs": [],
   "source": [
    "amenity_ohe = train.amenities.str.get_dummies(sep = \",\")"
   ]
  },
  {
   "cell_type": "code",
   "execution_count": 58,
   "metadata": {},
   "outputs": [],
   "source": [
    "train.amenities = train.amenities.str.replace(\"[{}]\", \"\")\n",
    "amenity_ohe = train.amenities.str.get_dummies(sep = \",\")"
   ]
  },
  {
   "cell_type": "code",
   "execution_count": 59,
   "metadata": {},
   "outputs": [
    {
     "data": {
      "text/html": [
       "<div>\n",
       "<style scoped>\n",
       "    .dataframe tbody tr th:only-of-type {\n",
       "        vertical-align: middle;\n",
       "    }\n",
       "\n",
       "    .dataframe tbody tr th {\n",
       "        vertical-align: top;\n",
       "    }\n",
       "\n",
       "    .dataframe thead th {\n",
       "        text-align: right;\n",
       "    }\n",
       "</style>\n",
       "<table border=\"1\" class=\"dataframe\">\n",
       "  <thead>\n",
       "    <tr style=\"text-align: right;\">\n",
       "      <th></th>\n",
       "      <th>\"24-Hour Check-in\"</th>\n",
       "      <th>\"Air Conditioning\"</th>\n",
       "      <th>\"Buzzer/Wireless Intercom\"</th>\n",
       "      <th>\"Cable TV\"</th>\n",
       "      <th>\"Carbon Monoxide Detector\"</th>\n",
       "      <th>\"Elevator in Building\"</th>\n",
       "      <th>\"Family/Kid Friendly\"</th>\n",
       "      <th>\"Fire Extinguisher\"</th>\n",
       "      <th>\"First Aid Kit\"</th>\n",
       "      <th>\"Free Parking on Premises\"</th>\n",
       "      <th>...</th>\n",
       "      <th>Gym</th>\n",
       "      <th>Hangers</th>\n",
       "      <th>Heating</th>\n",
       "      <th>Internet</th>\n",
       "      <th>Iron</th>\n",
       "      <th>Kitchen</th>\n",
       "      <th>Pool</th>\n",
       "      <th>Shampoo</th>\n",
       "      <th>TV</th>\n",
       "      <th>Washer</th>\n",
       "    </tr>\n",
       "  </thead>\n",
       "  <tbody>\n",
       "    <tr>\n",
       "      <th>0</th>\n",
       "      <td>0</td>\n",
       "      <td>0</td>\n",
       "      <td>0</td>\n",
       "      <td>0</td>\n",
       "      <td>0</td>\n",
       "      <td>0</td>\n",
       "      <td>1</td>\n",
       "      <td>1</td>\n",
       "      <td>0</td>\n",
       "      <td>1</td>\n",
       "      <td>...</td>\n",
       "      <td>0</td>\n",
       "      <td>0</td>\n",
       "      <td>1</td>\n",
       "      <td>0</td>\n",
       "      <td>0</td>\n",
       "      <td>1</td>\n",
       "      <td>0</td>\n",
       "      <td>1</td>\n",
       "      <td>1</td>\n",
       "      <td>1</td>\n",
       "    </tr>\n",
       "    <tr>\n",
       "      <th>1</th>\n",
       "      <td>0</td>\n",
       "      <td>1</td>\n",
       "      <td>0</td>\n",
       "      <td>0</td>\n",
       "      <td>1</td>\n",
       "      <td>0</td>\n",
       "      <td>1</td>\n",
       "      <td>1</td>\n",
       "      <td>0</td>\n",
       "      <td>0</td>\n",
       "      <td>...</td>\n",
       "      <td>0</td>\n",
       "      <td>1</td>\n",
       "      <td>1</td>\n",
       "      <td>1</td>\n",
       "      <td>1</td>\n",
       "      <td>1</td>\n",
       "      <td>0</td>\n",
       "      <td>1</td>\n",
       "      <td>1</td>\n",
       "      <td>1</td>\n",
       "    </tr>\n",
       "    <tr>\n",
       "      <th>2</th>\n",
       "      <td>0</td>\n",
       "      <td>1</td>\n",
       "      <td>0</td>\n",
       "      <td>1</td>\n",
       "      <td>1</td>\n",
       "      <td>0</td>\n",
       "      <td>0</td>\n",
       "      <td>0</td>\n",
       "      <td>1</td>\n",
       "      <td>1</td>\n",
       "      <td>...</td>\n",
       "      <td>0</td>\n",
       "      <td>0</td>\n",
       "      <td>1</td>\n",
       "      <td>0</td>\n",
       "      <td>0</td>\n",
       "      <td>1</td>\n",
       "      <td>0</td>\n",
       "      <td>1</td>\n",
       "      <td>1</td>\n",
       "      <td>1</td>\n",
       "    </tr>\n",
       "  </tbody>\n",
       "</table>\n",
       "<p>3 rows × 45 columns</p>\n",
       "</div>"
      ],
      "text/plain": [
       "   \"24-Hour Check-in\"  \"Air Conditioning\"  \"Buzzer/Wireless Intercom\"  \\\n",
       "0                   0                   0                           0   \n",
       "1                   0                   1                           0   \n",
       "2                   0                   1                           0   \n",
       "\n",
       "   \"Cable TV\"  \"Carbon Monoxide Detector\"  \"Elevator in Building\"  \\\n",
       "0           0                           0                       0   \n",
       "1           0                           1                       0   \n",
       "2           1                           1                       0   \n",
       "\n",
       "   \"Family/Kid Friendly\"  \"Fire Extinguisher\"  \"First Aid Kit\"  \\\n",
       "0                      1                    1                0   \n",
       "1                      1                    1                0   \n",
       "2                      0                    0                1   \n",
       "\n",
       "   \"Free Parking on Premises\"   ...    Gym  Hangers  Heating  Internet  Iron  \\\n",
       "0                           1   ...      0        0        1         0     0   \n",
       "1                           0   ...      0        1        1         1     1   \n",
       "2                           1   ...      0        0        1         0     0   \n",
       "\n",
       "   Kitchen  Pool  Shampoo  TV  Washer  \n",
       "0        1     0        1   1       1  \n",
       "1        1     0        1   1       1  \n",
       "2        1     0        1   1       1  \n",
       "\n",
       "[3 rows x 45 columns]"
      ]
     },
     "execution_count": 59,
     "metadata": {},
     "output_type": "execute_result"
    }
   ],
   "source": [
    "amenity_ohe.head(3)"
   ]
  },
  {
   "cell_type": "code",
   "execution_count": 60,
   "metadata": {},
   "outputs": [],
   "source": [
    "train[\"text\"] = train[\"name\"].str.cat(train[\"summary\"], sep = \" \")"
   ]
  },
  {
   "cell_type": "code",
   "execution_count": 61,
   "metadata": {},
   "outputs": [],
   "source": [
    "vect = CountVectorizer(stop_words = \"english\", min_df = 10)\n",
    "X_text = vect.fit_transform(train[\"text\"])"
   ]
  },
  {
   "cell_type": "code",
   "execution_count": 62,
   "metadata": {},
   "outputs": [],
   "source": [
    "#metric:\n",
    "def rmse(y_true, y_pred):\n",
    "    return(np.sqrt(metrics.mean_squared_error(y_true, y_pred)))\n",
    "\n",
    "#evaluates rmse on a validation set:\n",
    "def eval_model(model, X, y, state = 3):\n",
    "    X_tr, X_val, y_tr, y_val = train_test_split(X, y, random_state = state)\n",
    "    preds = model.fit(X_tr, y_tr).predict(X_val)\n",
    "    return rmse(y_val, preds)\n",
    "\n",
    "def pred_val(model, X, y):\n",
    "    X_train = X[:-1]\n",
    "    Y_train = y[:-1]\n",
    "    \n",
    "    model.fit(X_train, Y_train)\n",
    "    print(X[-2:-1])\n",
    "    return model.predict([X[-1]])[0]\n",
    "    "
   ]
  },
  {
   "cell_type": "code",
   "execution_count": 63,
   "metadata": {
    "scrolled": true
   },
   "outputs": [
    {
     "data": {
      "text/plain": [
       "((3536, 42), (3536, 1100), (3536, 45))"
      ]
     },
     "execution_count": 63,
     "metadata": {},
     "output_type": "execute_result"
    }
   ],
   "source": [
    "(X_num.shape, X_text.shape, amenity_ohe.shape)"
   ]
  },
  {
   "cell_type": "code",
   "execution_count": 64,
   "metadata": {},
   "outputs": [],
   "source": [
    "#this is numeric + amenities:\n",
    "X = np.hstack((X_num, amenity_ohe))\n",
    "\n",
    "#this is all of them:\n",
    "X_full = np.hstack((X_num, amenity_ohe, X_text.toarray()))"
   ]
  },
  {
   "cell_type": "code",
   "execution_count": 65,
   "metadata": {},
   "outputs": [],
   "source": [
    "models_rmse = [eval_model(xgb.XGBRegressor(), X_num, y),\n",
    " eval_model(xgb.XGBRegressor(), X, y),\n",
    " eval_model(Ridge(), X_num, y),\n",
    " eval_model(Ridge(), X, y),\n",
    " eval_model(xgb.XGBRegressor(), X_full, y)]"
   ]
  },
  {
   "cell_type": "code",
   "execution_count": 66,
   "metadata": {},
   "outputs": [],
   "source": [
    "models_rmse = pd.Series(models_rmse, index = [\"xgb_num\", \"xgb_ame\", \"ridge\", \"ridge_ame\", \"xgb_full\"] )"
   ]
  },
  {
   "cell_type": "code",
   "execution_count": 67,
   "metadata": {},
   "outputs": [
    {
     "data": {
      "text/plain": [
       "xgb_num      58.234924\n",
       "xgb_ame      56.718376\n",
       "ridge        60.604902\n",
       "ridge_ame    58.972657\n",
       "xgb_full     56.531990\n",
       "dtype: float64"
      ]
     },
     "execution_count": 67,
     "metadata": {},
     "output_type": "execute_result"
    }
   ],
   "source": [
    "models_rmse"
   ]
  },
  {
   "cell_type": "code",
   "execution_count": 68,
   "metadata": {},
   "outputs": [
    {
     "data": {
      "text/plain": [
       "<matplotlib.axes._subplots.AxesSubplot at 0x1117d1390>"
      ]
     },
     "execution_count": 68,
     "metadata": {},
     "output_type": "execute_result"
    },
    {
     "data": {
      "image/png": "[encoded data removed]",
      "text/plain": [
       "<Figure size 432x288 with 1 Axes>"
      ]
     },
     "metadata": {},
     "output_type": "display_data"
    }
   ],
   "source": [
    "models_rmse.plot(kind = \"barh\")"
   ]
  },
  {
   "cell_type": "code",
   "execution_count": 69,
   "metadata": {},
   "outputs": [],
   "source": [
    "results = []\n",
    "for i in range(30):\n",
    "    X_tr, X_val, y_tr, y_val = train_test_split(X_num, y)\n",
    "    y_baseline = [np.mean(y_tr)]*len(y_val)\n",
    "\n",
    "    model = Ridge(alpha = 5)\n",
    "    preds_logit = model.fit(X_tr, y_tr).predict(X_val)\n",
    "\n",
    "\n",
    "    model = xgb.XGBRegressor()  \n",
    "    preds_xgb = model.fit(X_tr, y_tr).predict(X_val)\n",
    "    \n",
    "    results.append((rmse(y_baseline, y_val),\n",
    "                    rmse(preds_logit, y_val),\n",
    "                    rmse(preds_xgb, y_val)\n",
    "                    ))"
   ]
  },
  {
   "cell_type": "code",
   "execution_count": 70,
   "metadata": {},
   "outputs": [
    {
     "data": {
      "text/plain": [
       "<matplotlib.axes._subplots.AxesSubplot at 0x111fb4da0>"
      ]
     },
     "execution_count": 70,
     "metadata": {},
     "output_type": "execute_result"
    },
    {
     "data": {
      "image/png": "[encoded data removed]",
      "text/plain": [
       "<Figure size 432x288 with 1 Axes>"
      ]
     },
     "metadata": {},
     "output_type": "display_data"
    }
   ],
   "source": [
    "results = pd.DataFrame(results, columns = [\"baseline\", \"ridge\", \"xgb\"])\n",
    "results.plot.hist(bins = 15, alpha = 0.5)"
   ]
  },
  {
   "cell_type": "code",
   "execution_count": 71,
   "metadata": {},
   "outputs": [
    {
     "data": {
      "text/html": [
       "<div>\n",
       "<style scoped>\n",
       "    .dataframe tbody tr th:only-of-type {\n",
       "        vertical-align: middle;\n",
       "    }\n",
       "\n",
       "    .dataframe tbody tr th {\n",
       "        vertical-align: top;\n",
       "    }\n",
       "\n",
       "    .dataframe thead th {\n",
       "        text-align: right;\n",
       "    }\n",
       "</style>\n",
       "<table border=\"1\" class=\"dataframe\">\n",
       "  <thead>\n",
       "    <tr style=\"text-align: right;\">\n",
       "      <th></th>\n",
       "      <th>baseline</th>\n",
       "      <th>ridge</th>\n",
       "      <th>xgb</th>\n",
       "    </tr>\n",
       "  </thead>\n",
       "  <tbody>\n",
       "    <tr>\n",
       "      <th>0</th>\n",
       "      <td>98.328313</td>\n",
       "      <td>61.724121</td>\n",
       "      <td>60.019511</td>\n",
       "    </tr>\n",
       "    <tr>\n",
       "      <th>1</th>\n",
       "      <td>2.855959</td>\n",
       "      <td>2.373654</td>\n",
       "      <td>2.440083</td>\n",
       "    </tr>\n",
       "  </tbody>\n",
       "</table>\n",
       "</div>"
      ],
      "text/plain": [
       "    baseline      ridge        xgb\n",
       "0  98.328313  61.724121  60.019511\n",
       "1   2.855959   2.373654   2.440083"
      ]
     },
     "execution_count": 71,
     "metadata": {},
     "output_type": "execute_result"
    }
   ],
   "source": [
    "pd.DataFrame([results.mean(), results.std()])"
   ]
  },
  {
   "cell_type": "code",
   "execution_count": null,
   "metadata": {},
   "outputs": [],
   "source": []
  }
 ],
 "metadata": {
  "kernelspec": {
   "display_name": "Python 3",
   "language": "python",
   "name": "python3"
  },
  "language_info": {
   "codemirror_mode": {
    "name": "ipython",
    "version": 3
   },
   "file_extension": ".py",
   "mimetype": "text/x-python",
   "name": "python",
   "nbconvert_exporter": "python",
   "pygments_lexer": "ipython3",
   "version": "3.6.5"
  }
 },
 "nbformat": 4,
 "nbformat_minor": 2
}
